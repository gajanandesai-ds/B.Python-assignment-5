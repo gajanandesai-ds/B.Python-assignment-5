{
 "cells": [
  {
   "cell_type": "raw",
   "id": "fdf190e3",
   "metadata": {},
   "source": [
    "1.What does an empty dictionary's code look like?"
   ]
  },
  {
   "cell_type": "raw",
   "id": "0a49309c",
   "metadata": {},
   "source": [
    "ans: Two curly brackets:{}\n",
    "\n",
    "#An empty pair of crly braces{} is an empty dictionry, just like an empty pair of [] is an empty list."
   ]
  },
  {
   "cell_type": "code",
   "execution_count": null,
   "id": "e900c670",
   "metadata": {},
   "outputs": [],
   "source": []
  },
  {
   "cell_type": "raw",
   "id": "7ef5e105",
   "metadata": {},
   "source": [
    "2.What is the value of a dictionary value with the key 'foo' and the value 42?"
   ]
  },
  {
   "cell_type": "raw",
   "id": "678316eb",
   "metadata": {},
   "source": [
    "ans: dictionery{'foo':42}"
   ]
  },
  {
   "cell_type": "code",
   "execution_count": null,
   "id": "f27c2c0c",
   "metadata": {},
   "outputs": [],
   "source": []
  },
  {
   "cell_type": "raw",
   "id": "59fd611d",
   "metadata": {},
   "source": [
    "3.What is the most significant distinction between a dictionary and a list?"
   ]
  },
  {
   "cell_type": "raw",
   "id": "ab2e51e2",
   "metadata": {},
   "source": [
    "ans:The items stored in a dictionry are unordered,while the items in a list are orderd.\n",
    "\n",
    "lists are an array of values and can be ordered accessed.dictionery are a key value store. accessing a list is fast."
   ]
  },
  {
   "cell_type": "code",
   "execution_count": null,
   "id": "dcd7cd6e",
   "metadata": {},
   "outputs": [],
   "source": []
  },
  {
   "cell_type": "raw",
   "id": "b3cb5b8b",
   "metadata": {},
   "source": [
    "4.What happens if you try to access spam['foo'] if spam is {'bar': 100}?"
   ]
  },
  {
   "cell_type": "raw",
   "id": "1414b55a",
   "metadata": {},
   "source": [
    "ans:you get a key Error.(the key 'foo' is not defined, so the program fails.)"
   ]
  },
  {
   "cell_type": "code",
   "execution_count": null,
   "id": "f1f9ae25",
   "metadata": {},
   "outputs": [],
   "source": []
  },
  {
   "cell_type": "raw",
   "id": "535233f8",
   "metadata": {},
   "source": [
    "5.If a dictionary is stored in spam, what is the difference between the expressions 'cat' in spam and\n",
    "'cat' in spam.keys()?"
   ]
  },
  {
   "cell_type": "raw",
   "id": "37b149f2",
   "metadata": {},
   "source": [
    "ans:There is no difference. The in operator check whether a value exists as a key in the dictionery."
   ]
  },
  {
   "cell_type": "code",
   "execution_count": null,
   "id": "cb58dd32",
   "metadata": {},
   "outputs": [],
   "source": []
  },
  {
   "cell_type": "raw",
   "id": "5a19a70f",
   "metadata": {},
   "source": [
    "6.If a dictionary is stored in spam, what is the difference between the expressions 'cat' in spam and\n",
    "'cat' in spam.values()?"
   ]
  },
  {
   "cell_type": "raw",
   "id": "fe566cc8",
   "metadata": {},
   "source": [
    "ans:'cat' in spam checks whether there is a 'cat' key in the dictionery, while 'cat' in spam. values() check whether there is a value 'cat' for one of the keys in spam."
   ]
  },
  {
   "cell_type": "code",
   "execution_count": null,
   "id": "3b1ed7aa",
   "metadata": {},
   "outputs": [],
   "source": []
  },
  {
   "cell_type": "raw",
   "id": "ff9cbbd3",
   "metadata": {},
   "source": [
    "7.What is a shortcut for the following code?\n",
    "if 'color' not in spam:\n",
    "spam['color'] = 'black'"
   ]
  },
  {
   "cell_type": "raw",
   "id": "600f7279",
   "metadata": {},
   "source": [
    "ans:spam.setdefault('color','black')"
   ]
  },
  {
   "cell_type": "code",
   "execution_count": null,
   "id": "44907138",
   "metadata": {},
   "outputs": [],
   "source": []
  },
  {
   "cell_type": "raw",
   "id": "97174ef0",
   "metadata": {},
   "source": [
    "8. How do you pretty print dictionary values using which module and function?"
   ]
  },
  {
   "cell_type": "raw",
   "id": "088010c1",
   "metadata": {},
   "source": [
    "ans: pprint,pprint()"
   ]
  },
  {
   "cell_type": "code",
   "execution_count": null,
   "id": "01864d51",
   "metadata": {},
   "outputs": [],
   "source": []
  }
 ],
 "metadata": {
  "kernelspec": {
   "display_name": "Python 3",
   "language": "python",
   "name": "python3"
  },
  "language_info": {
   "codemirror_mode": {
    "name": "ipython",
    "version": 3
   },
   "file_extension": ".py",
   "mimetype": "text/x-python",
   "name": "python",
   "nbconvert_exporter": "python",
   "pygments_lexer": "ipython3",
   "version": "3.8.8"
  }
 },
 "nbformat": 4,
 "nbformat_minor": 5
}
